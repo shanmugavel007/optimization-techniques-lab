{
 "cells": [
  {
   "cell_type": "markdown",
   "id": "ae2e0a46",
   "metadata": {},
   "source": [
    "## 8.SHUFFLED FROG LEAPING ALGORITHM"
   ]
  },
  {
   "cell_type": "code",
   "execution_count": 2,
   "id": "6d1903dd",
   "metadata": {
    "scrolled": true
   },
   "outputs": [
    {
     "name": "stdout",
     "output_type": "stream",
     "text": [
      "Starting shuffled frog leaping algorithm \n",
      "\n",
      "iteration 10: best solution: [-0.03894471  0.07600606] score: 0.08540264646123774\n",
      "iteration 20: best solution: [-0.03894471  0.07600606] score: 0.08540264646123774\n",
      "iteration 30: best solution: [ 0.02395392 -0.09025906] score: 0.0933835576767784\n",
      "iteration 40: best solution: [ 0.02395535 -0.09028002] score: 0.09340418112631375\n",
      "\n",
      "Shuffled frog leaping algorithm completed\n",
      "\n",
      "Best solution: [-0.09408269  0.19823077] Score: 0.21942422625596006\n"
     ]
    }
   ],
   "source": [
    "import numpy as np\n",
    "\n",
    "def opt_func(value):\n",
    "    return np.sqrt((value ** 2).sum())\n",
    "\n",
    "def gen_frogs(frogs, dimension, sigma, mu):\n",
    "    return sigma * (np.random.randn(frogs, dimension)) + mu\n",
    "\n",
    "def sort_frogs(frogs, mplx_no, opt_func):\n",
    "    # Find fitness of each frog\n",
    "    fitness = np.array(list(map(opt_func, frogs)))\n",
    "    # Sort the indices in descending order by fitness\n",
    "    sorted_fitness = np.argsort(fitness)\n",
    "    # Empty holder for memeplexes\n",
    "    memeplexes = np.zeros((mplx_no, int(frogs.shape[0] / mplx_no)))\n",
    "    # Sort into memeplexes\n",
    "    for j in range(memeplexes.shape[1]):\n",
    "        for i in range(mplx_no):\n",
    "            memeplexes[i, j] = sorted_fitness[i + (mplx_no * j)]\n",
    "    return memeplexes\n",
    "\n",
    "def local_search(frogs, memeplex, opt_func, sigma, mu):\n",
    "    # Select worst, best, greatest frogs\n",
    "    frog_w = frogs[int(memeplex[-1])]\n",
    "    frog_b = frogs[int(memeplex[0])]\n",
    "    frog_g = frogs[0]\n",
    "    # Move worst wrt best frog\n",
    "    frog_w_new = frog_w + (np.random.rand() * (frog_b - frog_w))\n",
    "    # If change not better, move worst wrt greatest frog\n",
    "    if opt_func(frog_w_new) > opt_func(frog_w):\n",
    "        frog_w_new = frog_w + (np.random.rand() * (frog_g - frog_w))\n",
    "    # If change not better, random new worst frog\n",
    "    if opt_func(frog_w_new) > opt_func(frog_w):\n",
    "        frog_w_new = gen_frogs(1, frogs.shape[1], sigma, mu)[0]\n",
    "    # Replace worst frog\n",
    "    frogs[int(memeplex[-1])] = frog_w_new\n",
    "    return frogs\n",
    "\n",
    "def shuffle_memeplexes(frogs, memeplexes):\n",
    "    # Flatten the array\n",
    "    temp = memeplexes.flatten()\n",
    "    # Shuffle the array\n",
    "    np.random.shuffle(temp)\n",
    "    # Reshape\n",
    "    temp = temp.reshape((memeplexes.shape[0], memeplexes.shape[1]))\n",
    "    return temp\n",
    "\n",
    "def sfla(opt_func, frogs=30, dimension=2, sigma=1, mu=0, mplx_no=5, mplx_iters=10, solun_iters=50):\n",
    "    # Generate frogs around the solution\n",
    "    frogs = gen_frogs(frogs, dimension, sigma, mu)\n",
    "    # Arrange frogs and sort into memeplexes\n",
    "    memeplexes = sort_frogs(frogs, mplx_no, opt_func)\n",
    "    # Best solution as greatest frog\n",
    "    best_solun = frogs[int(memeplexes[0, 0])]\n",
    "    # For the number of iterations\n",
    "    for i in range(solun_iters):\n",
    "        if i % 10 == 0 and i > 1:\n",
    "            print(f'iteration {i}: best solution: {best_solun} score: {opt_func(best_solun)}')\n",
    "        # Shuffle memeplexes\n",
    "        memeplexes = shuffle_memeplexes(frogs, memeplexes)\n",
    "        # For each memeplex\n",
    "        for mplx_idx, memeplex in enumerate(memeplexes):\n",
    "            # For number of memeplex iterations\n",
    "            for j in range(mplx_iters):\n",
    "                # Perform local search\n",
    "                frogs = local_search(frogs, memeplex, opt_func, sigma, mu)\n",
    "            # Rearrange memeplexes\n",
    "            memeplexes = sort_frogs(frogs, mplx_no, opt_func)\n",
    "            # Check and select new best frog as the greatest frog\n",
    "            new_best_solun = frogs[int(memeplexes[0, 0])]\n",
    "            if opt_func(new_best_solun) < opt_func(best_solun):\n",
    "                best_solun = new_best_solun\n",
    "    return best_solun, frogs, memeplexes.astype(int)\n",
    "\n",
    "print(\"Starting shuffled frog leaping algorithm \\n\")\n",
    "solun, frogs, memeplexes = sfla(opt_func, 100, 2, 1, 0, 5, 25, 50)\n",
    "print(\"\\nShuffled frog leaping algorithm completed\")\n",
    "print(f'\\nBest solution: {solun} Score: {opt_func(solun)}')\n"
   ]
  },
  {
   "cell_type": "code",
   "execution_count": null,
   "id": "7d808a2b",
   "metadata": {},
   "outputs": [],
   "source": []
  }
 ],
 "metadata": {
  "kernelspec": {
   "display_name": "Python 3",
   "language": "python",
   "name": "python3"
  },
  "language_info": {
   "codemirror_mode": {
    "name": "ipython",
    "version": 3
   },
   "file_extension": ".py",
   "mimetype": "text/x-python",
   "name": "python",
   "nbconvert_exporter": "python",
   "pygments_lexer": "ipython3",
   "version": "3.8.8"
  }
 },
 "nbformat": 4,
 "nbformat_minor": 5
}
